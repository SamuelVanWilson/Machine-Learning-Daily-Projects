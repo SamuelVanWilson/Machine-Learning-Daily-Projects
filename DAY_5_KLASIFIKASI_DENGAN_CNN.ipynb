{
  "cells": [
    {
      "cell_type": "markdown",
      "metadata": {
        "id": "view-in-github",
        "colab_type": "text"
      },
      "source": [
        "<a href=\"https://colab.research.google.com/github/SamuelVanWilson/Machine-Learning-Daily-Projects/blob/main/DAY_5_KLASIFIKASI_DENGAN_CNN.ipynb\" target=\"_parent\"><img src=\"https://colab.research.google.com/assets/colab-badge.svg\" alt=\"Open In Colab\"/></a>"
      ]
    },
    {
      "cell_type": "markdown",
      "metadata": {
        "id": "U-mSgHs-7m7c"
      },
      "source": [
        "#**KLASIFIKASI GAMBAR TULIS TANGAN DENGAN CONVOLUTIONAL NEURAL NETWORK**"
      ]
    },
    {
      "cell_type": "markdown",
      "metadata": {
        "id": "kzuLdX3y8W_Y"
      },
      "source": [
        "###IMPORT LIBRARY"
      ]
    },
    {
      "cell_type": "code",
      "execution_count": null,
      "metadata": {
        "id": "60dqR0FZ7Z_B"
      },
      "outputs": [],
      "source": [
        "\n",
        "import tensorflow as tf\n",
        "from tensorflow.keras.layers import Conv2D, MaxPooling2D, Flatten, Dense\n",
        "from tensorflow.keras.models import Sequential\n",
        "\n",
        "import numpy as np\n",
        "import matplotlib.pyplot as plt"
      ]
    },
    {
      "cell_type": "markdown",
      "source": [
        "library `tensorflow` digunakan untuk melatih dan membuat model deep learning\n",
        "\n",
        "---\n",
        "\n",
        "`from tensorflow.keras.layers import Conv2D, MaxPooling2D, Flatten, Dense` package-package ini berguna membuat layer-layer khusus yang nantinya membangun **convulutional neural network**/**CNN**\n",
        "- `Conv2D` mencari dan mengekstrak pola/fitur tertentu dari gambar\n",
        "- `MaxPooling2D` mengurangi dimensi gambar tetapi tetap mempertahankan fitur penting pada gambar\n",
        "- `Flatten` mengubah output 2D dari layer **CNN** menjadi vektor 1D untuk *layer fully connected*\n",
        "\n",
        "- `Dense` setelah ekstraksi fitur oleh `Conv2D` dan `MaxPooling2D`, layer ini bertugas \"memutuskan\" kelas berdasarkan fitur yang ditemukan\n",
        "\n",
        "---\n",
        "\n",
        "`from tensorflow.keras.models import Sequential` digunakan untuk membangun model neural network secara berurutan(*layer-by-layer*)\n",
        "\n",
        "---\n",
        "\n",
        "`import numpy as np` untuk komputasi numerik yang stabil pada model\n",
        "\n",
        "`import matplotlib.pyplot as plt` digunakan untuk visualisasi grafik data pada model"
      ],
      "metadata": {
        "id": "3qmWfxD8zzp_"
      }
    },
    {
      "cell_type": "markdown",
      "metadata": {
        "id": "vS7Hx3oSA12d"
      },
      "source": [
        "###PREPROCESSING DATA"
      ]
    },
    {
      "cell_type": "code",
      "execution_count": null,
      "metadata": {
        "id": "9JVRqRA_B2EP",
        "colab": {
          "base_uri": "https://localhost:8080/"
        },
        "outputId": "96170292-1caf-4e6f-97d9-b134efbf3b43"
      },
      "outputs": [
        {
          "output_type": "stream",
          "name": "stdout",
          "text": [
            "Downloading data from https://storage.googleapis.com/tensorflow/tf-keras-datasets/mnist.npz\n",
            "\u001b[1m11490434/11490434\u001b[0m \u001b[32m━━━━━━━━━━━━━━━━━━━━\u001b[0m\u001b[37m\u001b[0m \u001b[1m0s\u001b[0m 0us/step\n"
          ]
        }
      ],
      "source": [
        "(x_train, y_train), (x_test, y_test) = tf.keras.datasets.mnist.load_data()\n",
        "\n",
        "x_train = x_train.reshape(-1, 28, 28, 1)\n",
        "x_test = x_test.reshape(-1, 28, 28, 1)\n",
        "\n",
        "x_train = x_train / 255\n",
        "x_test = x_test / 255\n",
        "\n",
        "y_train = tf.keras.utils.to_categorical(y_train, 10)\n",
        "y_test = tf.keras.utils.to_categorical(y_test, 10)"
      ]
    },
    {
      "cell_type": "markdown",
      "source": [
        "`tf.keras.datasets.mnist.load_data()` digunakan untuk mengekstrak data **MNIST** lalu dipisahkan datanya untuk membuat data training, dan data test yang disimpan kedalam variabel:\n",
        "- `x_train` fitur/input data training\n",
        "- `y_train` label/output data training\n",
        "- `x_test` fitur/input data test\n",
        "- `y_test` label/output data test\n",
        "\n",
        "---\n",
        "\n",
        "`x_train.reshape()` mengubah bentuk data gambar 3D(jumlah_gambar, tinggi, lebar) menjadi 4D(jumlah_gambar, tinggi, lebar, channel), kita mengubah bentuk datanya karena **CNN** mengharapkan 4D bukan 3D\n",
        "\n",
        "---\n",
        "\n",
        "`x_train = x_train / 255` dan `x_test = x_test / 255` variabel kedua ini dilakukan normalisasi dari rentang `0-255` ke `0-1`, ini dilakukan agar model **CNN** agar belajar lebih baik karena kalau nilainya terlalu besar perhitungan matematika di model jadi tidak stabil\n",
        "\n",
        "---\n",
        "\n",
        "`tf.keras.utils.to_categorical(y_train, 10)` mengubah label angka(0-9)menjadi **one-hot encoding** dengan vektor biner 10(karena ada 10 kelas)"
      ],
      "metadata": {
        "id": "p6GqQDgu6dSq"
      }
    },
    {
      "cell_type": "markdown",
      "metadata": {
        "id": "ATcDBWjpDLWG"
      },
      "source": [
        "###MEMBUAT MODEL CNN"
      ]
    },
    {
      "cell_type": "code",
      "execution_count": null,
      "metadata": {
        "id": "E3GnhxWuDXdM"
      },
      "outputs": [],
      "source": [
        "\n",
        "model = Sequential([\n",
        " Conv2D(32, (3,3), activation='relu', input_shape=(28,28,1)),\n",
        " MaxPooling2D((2,2)),\n",
        " Conv2D(64, (3,3), activation='relu'),\n",
        " MaxPooling2D((2,2)),\n",
        "\n",
        " Flatten(),\n",
        " Dense(128, activation='relu'),\n",
        " Dense(10, activation='softmax')\n",
        "])\n",
        "\n",
        "model.compile(\n",
        " optimizer='adam',\n",
        " loss='categorical_crossentropy',\n",
        " metrics=['accuracy']\n",
        ")"
      ]
    },
    {
      "cell_type": "markdown",
      "source": [
        "variabel `model`untuk menyimpan model yang sudah dibuat menggunakan`Sequential()`\n",
        "\n",
        "---\n",
        "\n",
        "####**Membuat Model**\n",
        "\n",
        "selain `Sequential()` bisa membuat model neural network, `Sequential()` juga bisa membuat **CNN**\n",
        "\n",
        "Model CNN memiliki **layer khusus untuk gambar** yang tidak ada di neural network biasa:\n",
        "1. **`Conv2D`** (Convolutional Layer) → Mengekstrak fitur lokal (seperti tepi, pola).  \n",
        "2. **`MaxPooling2D`** → Mengurangi dimensi gambar dan memperkuat fitur penting.  \n",
        "\n",
        "layer yang ada didalam **CNN**:\n",
        "- `Conv2D(32, (3,3), activation='relu', input_shape=(28,28,1))`\n",
        " - **`filters=32`**: Jumlah **filter** (atau kernel) yang digunakan. Setiap filter bertugas mendeteksi pola tertentu (misal: garis vertikal, lingkaran). **Contoh**: 32 filter = 32 pola berbeda yang dipelajari.  \n",
        "\n",
        " - **`kernel_size=(3,3)`**: Ukuran filter (3x3 piksel). Filter ini akan \"berjalan\" (slide) di seluruh gambar untuk mendeteksi pola. **Analoginya**: Seperti senter 3x3 yang menyinari bagian kecil gambar.  \n",
        "\n",
        " - **`input_shape=(28,28,1)`**: Bentuk input gambar: tinggi=28, lebar=28, channel=1 (grayscale). **Catatan**: Hanya perlu didefinisikan di layer pertama.\n",
        " - **`activation='relu'`** mengubah nilai negatif menjadi 0 dan membiarkan nilai tetap menjadi positif, ini sangat penting untuk membantu model mempelajari pola kompleks dari data\n",
        "\n",
        "- `MaxPooling2D((2,2))` Mengurangi dimensi gambar agar model lebih fokus pada fitur dominan (misal: garis tebal)\n",
        "\n",
        "---\n",
        "\n",
        "####**Mengompilasi Model**\n",
        "\n",
        "- **optimizer**: algoritma untuk memperbarui bobot model\n",
        "- **loss function**: fungsi untuk mengukur kesalahan prediksi model\n",
        "- **metrics**: metrik untuk mengevaluasi performa model\n",
        "\n",
        "**parameter compile**:\n",
        "1. `optimizer='adam'` digunakan untuk menyesuaikan bobot model untuk meminimalkan kesalahan. `adam` adalah optimizer yang populer karena cepat dan efisien.\n",
        "2. `loss='categorical_crossentropy'` digunakan untuk mengukur kesalahan prediksi untuk masalah klasifikasi multi-kelas\n",
        "3. `metrics=['accuracy']` digunakan untuk mengukur akurasi"
      ],
      "metadata": {
        "id": "TRXR1PXOqZex"
      }
    },
    {
      "cell_type": "markdown",
      "metadata": {
        "id": "fbrLb-pkDxyr"
      },
      "source": [
        "###MELATIH MODEL"
      ]
    },
    {
      "cell_type": "code",
      "execution_count": null,
      "metadata": {
        "colab": {
          "base_uri": "https://localhost:8080/"
        },
        "id": "qj6McgAZD0vx",
        "outputId": "49b54723-9a87-43aa-c5c3-c806cbd70617"
      },
      "outputs": [
        {
          "output_type": "stream",
          "name": "stdout",
          "text": [
            "Epoch 1/5\n",
            "\u001b[1m1500/1500\u001b[0m \u001b[32m━━━━━━━━━━━━━━━━━━━━\u001b[0m\u001b[37m\u001b[0m \u001b[1m52s\u001b[0m 33ms/step - accuracy: 0.8985 - loss: 0.3301 - val_accuracy: 0.9835 - val_loss: 0.0568\n",
            "Epoch 2/5\n",
            "\u001b[1m1500/1500\u001b[0m \u001b[32m━━━━━━━━━━━━━━━━━━━━\u001b[0m\u001b[37m\u001b[0m \u001b[1m47s\u001b[0m 32ms/step - accuracy: 0.9847 - loss: 0.0509 - val_accuracy: 0.9847 - val_loss: 0.0489\n",
            "Epoch 3/5\n",
            "\u001b[1m1500/1500\u001b[0m \u001b[32m━━━━━━━━━━━━━━━━━━━━\u001b[0m\u001b[37m\u001b[0m \u001b[1m51s\u001b[0m 34ms/step - accuracy: 0.9900 - loss: 0.0325 - val_accuracy: 0.9861 - val_loss: 0.0534\n",
            "Epoch 4/5\n",
            "\u001b[1m1500/1500\u001b[0m \u001b[32m━━━━━━━━━━━━━━━━━━━━\u001b[0m\u001b[37m\u001b[0m \u001b[1m82s\u001b[0m 34ms/step - accuracy: 0.9922 - loss: 0.0236 - val_accuracy: 0.9877 - val_loss: 0.0435\n",
            "Epoch 5/5\n",
            "\u001b[1m1500/1500\u001b[0m \u001b[32m━━━━━━━━━━━━━━━━━━━━\u001b[0m\u001b[37m\u001b[0m \u001b[1m47s\u001b[0m 32ms/step - accuracy: 0.9952 - loss: 0.0150 - val_accuracy: 0.9903 - val_loss: 0.0365\n"
          ]
        }
      ],
      "source": [
        "history = model.fit(\n",
        " x_train, y_train,\n",
        " epochs=5,\n",
        " validation_split=0.2\n",
        ")"
      ]
    },
    {
      "cell_type": "markdown",
      "source": [
        "variabel `history` untuk menyimpan riwayat pelatihan model\n",
        "\n",
        "---\n",
        "\n",
        "`model.fit()` berguna untuk melatih model\n",
        "\n",
        "parameternya:\n",
        "- `x_train` fitur yang digunakan untuk dilatih model\n",
        "-`y_train` label yang digunakan untuk dilatih model\n",
        "- `epochs` digunakan untuk mengulang model selama berlatih, karena epochsnya 5 kali maka, model berlatih dengan data training secara 5 kali berulang\n",
        "- `validation_split=0.2` digunakan untuk validasi model selama latihan, ini seperti \"ujian kecil\" selama latihan model berjalan, karena nilainya `0.2` maka model akan melakukan ujian kecil menggunakan 20% data training"
      ],
      "metadata": {
        "id": "m0rmM-5XnEA_"
      }
    },
    {
      "cell_type": "markdown",
      "metadata": {
        "id": "hh4qKeekEGq2"
      },
      "source": [
        "###EVALUASI MODEL"
      ]
    },
    {
      "cell_type": "code",
      "execution_count": null,
      "metadata": {
        "colab": {
          "base_uri": "https://localhost:8080/"
        },
        "id": "bJlxStChEyow",
        "outputId": "b13d5ce9-c499-4423-f4c8-12369f8b6bfb"
      },
      "outputs": [
        {
          "output_type": "stream",
          "name": "stdout",
          "text": [
            "\u001b[1m313/313\u001b[0m \u001b[32m━━━━━━━━━━━━━━━━━━━━\u001b[0m\u001b[37m\u001b[0m \u001b[1m4s\u001b[0m 13ms/step - accuracy: 0.9892 - loss: 0.0367\n",
            "\n",
            "Akurasi Test Dengan CNN: 0.9913\n"
          ]
        }
      ],
      "source": [
        "test_loss, test_acc = model.evaluate(x_test, y_test)\n",
        "print(f\"\\nAkurasi Test Dengan CNN: {test_acc:.4f}\")"
      ]
    },
    {
      "cell_type": "markdown",
      "source": [
        "`model.evaluate()` digunakan untuk mengevaluasi model, ini seperti *tes ujian akhir* bagi model untuk melihat seberapa baik model bekerja, karena *method* ini mengembalikan berupa 2 nilai yaitu **nilai akurasi** yang disimpan kedalam variabel `test_acc` dan **nilai kesalahan selama tes** yang disimpan kedalam variabel `test_loss`, jadi tahap ini merupakan tahap model memakai data test, karena parameter permata menggunakan **fitur data test** yakni `x_test` dan parameter kedua **label data test** yakni `y_test`"
      ],
      "metadata": {
        "id": "Ge_xb6k5xojx"
      }
    },
    {
      "cell_type": "markdown",
      "metadata": {
        "id": "-UXgcoFeEvD2"
      },
      "source": [
        "###PREDIKSI GAMBAR"
      ]
    },
    {
      "cell_type": "code",
      "execution_count": null,
      "metadata": {
        "colab": {
          "base_uri": "https://localhost:8080/",
          "height": 1000
        },
        "id": "li9ukvbkE29D",
        "outputId": "09ea282c-12d7-4f7b-e420-e6e60cf87e62"
      },
      "outputs": [
        {
          "output_type": "stream",
          "name": "stdout",
          "text": [
            "\u001b[1m1/1\u001b[0m \u001b[32m━━━━━━━━━━━━━━━━━━━━\u001b[0m\u001b[37m\u001b[0m \u001b[1m0s\u001b[0m 92ms/step\n"
          ]
        },
        {
          "output_type": "display_data",
          "data": {
            "text/plain": [
              "<Figure size 640x480 with 1 Axes>"
            ],
            "image/png": "[encoded data removed]"
          },
          "metadata": {}
        },
        {
          "output_type": "stream",
          "name": "stdout",
          "text": [
            "\u001b[1m1/1\u001b[0m \u001b[32m━━━━━━━━━━━━━━━━━━━━\u001b[0m\u001b[37m\u001b[0m \u001b[1m0s\u001b[0m 44ms/step\n"
          ]
        },
        {
          "output_type": "display_data",
          "data": {
            "text/plain": [
              "<Figure size 640x480 with 1 Axes>"
            ],
            "image/png": "[encoded data removed]"
          },
          "metadata": {}
        },
        {
          "output_type": "stream",
          "name": "stdout",
          "text": [
            "\u001b[1m1/1\u001b[0m \u001b[32m━━━━━━━━━━━━━━━━━━━━\u001b[0m\u001b[37m\u001b[0m \u001b[1m0s\u001b[0m 36ms/step\n"
          ]
        },
        {
          "output_type": "display_data",
          "data": {
            "text/plain": [
              "<Figure size 640x480 with 1 Axes>"
            ],
            "image/png": "[encoded data removed]"
          },
          "metadata": {}
        },
        {
          "output_type": "stream",
          "name": "stdout",
          "text": [
            "\u001b[1m1/1\u001b[0m \u001b[32m━━━━━━━━━━━━━━━━━━━━\u001b[0m\u001b[37m\u001b[0m \u001b[1m0s\u001b[0m 37ms/step\n"
          ]
        },
        {
          "output_type": "display_data",
          "data": {
            "text/plain": [
              "<Figure size 640x480 with 1 Axes>"
            ],
            "image/png": "[encoded data removed]"
          },
          "metadata": {}
        },
        {
          "output_type": "stream",
          "name": "stdout",
          "text": [
            "\u001b[1m1/1\u001b[0m \u001b[32m━━━━━━━━━━━━━━━━━━━━\u001b[0m\u001b[37m\u001b[0m \u001b[1m0s\u001b[0m 38ms/step\n"
          ]
        },
        {
          "output_type": "display_data",
          "data": {
            "text/plain": [
              "<Figure size 640x480 with 1 Axes>"
            ],
            "image/png": "[encoded data removed]"
          },
          "metadata": {}
        }
      ],
      "source": [
        "\n",
        "indices = np.random.choice(len(x_test), 5)\n",
        "\n",
        "for i in indices:\n",
        "    img = x_test[i]\n",
        "    true_label = np.argmax(y_test[i])\n",
        "\n",
        "    pred = model.predict(img.reshape(1, 28, 28))\n",
        "    pred_label = np.argmax(pred)\n",
        "\n",
        "    plt.imshow(img, cmap='gray')\n",
        "    plt.title(f\"True: {true_label}, Pred: {pred_label}\")\n",
        "    plt.show()"
      ]
    },
    {
      "cell_type": "markdown",
      "source": [
        "variabel `indices` dugunakan untuk memilih 5 angka random, yang akan digunakan untuk memilih data secara acak sesuai nilai maksimum dataset, karena menggunakan fungsi `np.random.choice()`\n",
        "\n",
        "---\n",
        "\n",
        "perulangan `for i in indices:` digunakan untuk menampilkan gambar tulis tangan dan hasil prediksi model *satu persatu*"
      ],
      "metadata": {
        "id": "SkViFyCBm5z8"
      }
    }
  ],
  "metadata": {
    "colab": {
      "collapsed_sections": [
        "kzuLdX3y8W_Y",
        "vS7Hx3oSA12d",
        "fbrLb-pkDxyr",
        "hh4qKeekEGq2"
      ],
      "provenance": [],
      "authorship_tag": "ABX9TyOSkuztvHRCHxJxIvpLBFr5",
      "include_colab_link": true
    },
    "kernelspec": {
      "display_name": "Python 3",
      "name": "python3"
    },
    "language_info": {
      "name": "python"
    }
  },
  "nbformat": 4,
  "nbformat_minor": 0
}