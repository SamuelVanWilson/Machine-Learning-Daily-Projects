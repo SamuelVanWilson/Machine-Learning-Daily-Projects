{
 "cells": [
  {
   "cell_type": "markdown",
   "metadata": {
    "id": "4vk59DyvV5BO"
   },
   "source": [
    "#**MATERI 1: SAVING & LOAD MODEL**"
   ]
  },
  {
   "cell_type": "markdown",
   "metadata": {
    "id": "fMvdpOu7WaCV"
   },
   "source": [
    "####1.1 Membuat ML Untuk Klasifikasi Gambar (Mengambil Projek Hari Ke-5)"
   ]
  },
  {
   "cell_type": "code",
   "execution_count": null,
   "metadata": {
    "executionInfo": {
     "elapsed": 5,
     "status": "ok",
     "timestamp": 1740035455532,
     "user": {
      "displayName": "S Van",
      "userId": "17300833363536077709"
     },
     "user_tz": -420
    },
    "id": "HXQcbqwaMe8U"
   },
   "outputs": [],
   "source": [
    "import tensorflow as tf\n",
    "from tensorflow.keras.layers import Conv2D, MaxPooling2D, Flatten, Dense\n",
    "from tensorflow.keras.models import Sequential\n",
    "import numpy as np\n",
    "import matplotlib.pyplot as plt"
   ]
  },
  {
   "cell_type": "code",
   "execution_count": null,
   "metadata": {
    "colab": {
     "base_uri": "https://localhost:8080/"
    },
    "id": "pFkBuyoIV2ki",
    "outputId": "100ad837-487e-437d-e968-595f935e5053"
   },
   "outputs": [
    {
     "name": "stdout",
     "output_type": "stream",
     "text": [
      "Downloading data from https://storage.googleapis.com/tensorflow/tf-keras-datasets/mnist.npz\n",
      "\u001b[1m11490434/11490434\u001b[0m \u001b[32m━━━━━━━━━━━━━━━━━━━━\u001b[0m\u001b[37m\u001b[0m \u001b[1m1s\u001b[0m 0us/step\n"
     ]
    },
    {
     "name": "stderr",
     "output_type": "stream",
     "text": [
      "/usr/local/lib/python3.11/dist-packages/keras/src/layers/convolutional/base_conv.py:107: UserWarning: Do not pass an `input_shape`/`input_dim` argument to a layer. When using Sequential models, prefer using an `Input(shape)` object as the first layer in the model instead.\n",
      "  super().__init__(activity_regularizer=activity_regularizer, **kwargs)\n"
     ]
    },
    {
     "name": "stdout",
     "output_type": "stream",
     "text": [
      "Epoch 1/5\n",
      "\u001b[1m1500/1500\u001b[0m \u001b[32m━━━━━━━━━━━━━━━━━━━━\u001b[0m\u001b[37m\u001b[0m \u001b[1m64s\u001b[0m 41ms/step - accuracy: 0.8990 - loss: 0.3346 - val_accuracy: 0.9807 - val_loss: 0.0627\n",
      "Epoch 2/5\n",
      "\u001b[1m 565/1500\u001b[0m \u001b[32m━━━━━━━\u001b[0m\u001b[37m━━━━━━━━━━━━━\u001b[0m \u001b[1m32s\u001b[0m 35ms/step - accuracy: 0.9847 - loss: 0.0498"
     ]
    }
   ],
   "source": [
    "(x_train, y_train), (x_test, y_test) = tf.keras.datasets.mnist.load_data()\n",
    "\n",
    "x_train = x_train.reshape(-1, 28, 28, 1)\n",
    "x_test = x_test.reshape(-1, 28, 28, 1)\n",
    "\n",
    "x_train = x_train / 255\n",
    "x_test = x_test / 255\n",
    "\n",
    "y_train = tf.keras.utils.to_categorical(y_train, 10)\n",
    "y_test = tf.keras.utils.to_categorical(y_test, 10)\n",
    "\n",
    "model = Sequential([\n",
    " Conv2D(32, (3,3), activation='relu', input_shape=(28,28,1)),\n",
    " MaxPooling2D((2,2)),\n",
    " Conv2D(64, (3,3), activation='relu'),\n",
    " MaxPooling2D((2,2)),\n",
    "\n",
    " Flatten(),\n",
    " Dense(128, activation='relu'),\n",
    " Dense(10, activation='softmax')\n",
    "])\n",
    "\n",
    "model.compile(\n",
    " optimizer='adam',\n",
    " loss='categorical_crossentropy',\n",
    " metrics=['accuracy']\n",
    ")\n",
    "\n",
    "history = model.fit(\n",
    " x_train, y_train,\n",
    " epochs=5,\n",
    " validation_split=0.2\n",
    ")\n",
    "\n",
    "test_loss, test_acc = model.evaluate(x_test, y_test)"
   ]
  },
  {
   "cell_type": "markdown",
   "metadata": {
    "id": "1FjWny-CGqdN"
   },
   "source": [
    "kita disini membuat machine learning yang sudah kita lakukan di hari ke-5 untuk penerapan *materi* kali ini yaitu **saving & load model**"
   ]
  },
  {
   "cell_type": "markdown",
   "metadata": {
    "id": "N7WqlJCeeKJ_"
   },
   "source": [
    "####1.2 Save Model Agar Catatan Pelatihan Disimpan"
   ]
  },
  {
   "cell_type": "code",
   "execution_count": null,
   "metadata": {
    "id": "0qFllVfOeLlB"
   },
   "outputs": [],
   "source": [
    "model.save('cifar10_model.keras')"
   ]
  },
  {
   "cell_type": "markdown",
   "metadata": {
    "id": "gcBBQZZsHUsf"
   },
   "source": [
    "dalam menyimpan model dalam tensorflow, ada 2 format yang umum sering dipakai yakni *.h5* dan *.keras*, perbedaannya:\n",
    "- **.h5** adalah format file lama yang kompatibel dengan keras, tapi tidak menyimpan semua informasi (kayak custom layer)\n",
    "- **.keras** kalo ini format yang baru yang dirancang untuk keras yang versi terbaru, karena ukuran file lebih kecil dan paling terpenting menyimpan semua informasi model(seperti custom layer dan loss function)"
   ]
  },
  {
   "cell_type": "markdown",
   "metadata": {
    "id": "K_IYkT9qaq8Y"
   },
   "source": [
    "####1.3a Prediksi Langsung Tanpa Menggunakan Load Model"
   ]
  },
  {
   "cell_type": "code",
   "execution_count": null,
   "metadata": {
    "id": "0MCEBfN0a3j3"
   },
   "outputs": [],
   "source": [
    "indices = np.random.choice(len(x_test), 5)\n",
    "for i in indices:\n",
    " img = x_test[i]\n",
    " true_label = np.argmax(y_test[i])\n",
    "\n",
    " pred = model.predict(img.reshape(1, 28, 28))\n",
    " pred_label = np.argmax(pred)\n",
    "\n",
    " plt.imshow(img, cmap='gray')\n",
    " plt.title(f\"True: {true_label}, Pred: {pred_label}\")\n",
    " plt.show()"
   ]
  },
  {
   "cell_type": "markdown",
   "metadata": {
    "id": "9wOiTCBpbWNf"
   },
   "source": [
    "####1.3b Prediksi Menggunakan Load Model"
   ]
  },
  {
   "cell_type": "code",
   "execution_count": null,
   "metadata": {
    "id": "mJmaRaC5b6eC"
   },
   "outputs": [],
   "source": [
    "indices = np.random.choice(len(x_test), 5)\n",
    "load_model = tf.keras.models.load_model('cifar10_model.keras')\n",
    "\n",
    "for i in indices:\n",
    " img = x_test[i]\n",
    " true_label = np.argmax(y_test[i])\n",
    "\n",
    " pred = load_model.predict(img.reshape(1, 28, 28))\n",
    " pred_label = np.argmax(pred)\n",
    "\n",
    " plt.imshow(img, cmap='gray')\n",
    " plt.title(f\"True: {true_label}, Pred: {pred_label}\")\n",
    " plt.show()"
   ]
  }
 ],
 "metadata": {
  "colab": {
   "authorship_tag": "ABX9TyOJSGVwd5zYedq73vYWZhG0",
   "collapsed_sections": [
    "fMvdpOu7WaCV",
    "N7WqlJCeeKJ_",
    "K_IYkT9qaq8Y",
    "9wOiTCBpbWNf"
   ],
   "provenance": []
  },
  "kernelspec": {
   "display_name": "Python 3",
   "name": "python3"
  },
  "language_info": {
   "name": "python"
  }
 },
 "nbformat": 4,
 "nbformat_minor": 0
}
