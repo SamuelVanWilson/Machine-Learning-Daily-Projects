{
  "nbformat": 4,
  "nbformat_minor": 0,
  "metadata": {
    "colab": {
      "provenance": [],
      "collapsed_sections": [
        "hqSioJfH7DA0",
        "EEi_xjf27Gub",
        "MuZYsCeZ7RAj",
        "4Un--g5q7hwd"
      ],
      "authorship_tag": "ABX9TyP/gOg0oFiKCVxv74WN5W3l",
      "include_colab_link": true
    },
    "kernelspec": {
      "name": "python3",
      "display_name": "Python 3"
    },
    "language_info": {
      "name": "python"
    }
  },
  "cells": [
    {
      "cell_type": "markdown",
      "metadata": {
        "id": "view-in-github",
        "colab_type": "text"
      },
      "source": [
        "<a href=\"https://colab.research.google.com/github/SamuelVanWilson/Machine-Learning-Daily-Projects/blob/main/DAY_6_TRANSFER_LEARNING_KLASIFIKASI_GAMBAR.ipynb\" target=\"_parent\"><img src=\"https://colab.research.google.com/assets/colab-badge.svg\" alt=\"Open In Colab\"/></a>"
      ]
    },
    {
      "cell_type": "markdown",
      "source": [
        "#**MENGIDENTIFIKASI GAMBAR DENGAN TEKNIK TRANFSER LEARNING YANG MENGGUNAKAN DATA CIFAR-10**"
      ],
      "metadata": {
        "id": "VUv-a6Fx6nwL"
      }
    },
    {
      "cell_type": "markdown",
      "source": [
        "###IMPORT LIBRARY"
      ],
      "metadata": {
        "id": "hqSioJfH7DA0"
      }
    },
    {
      "cell_type": "code",
      "execution_count": null,
      "metadata": {
        "id": "kQ4aJJ-26PKI"
      },
      "outputs": [],
      "source": [
        "import tensorflow as tf\n",
        "from tensorflow.keras.layers import Dense, GlobalAveragePooling2D\n",
        "from tensorflow.keras.models import Model\n",
        "from tensorflow.keras.applications import MobileNetV2\n",
        "from tensorflow.keras.datasets import cifar10\n",
        "from tensorflow.keras.utils import to_categorical\n",
        "\n",
        "import numpy as np\n",
        "import matplotlib.pyplot as plt"
      ]
    },
    {
      "cell_type": "markdown",
      "source": [
        "library `tensorflow` digunakan untuk membangun model dalam pembuatan machine learning\n",
        "\n",
        "`from tensorflow.keras.layers import Dense, GlobalAveragePooling2D`\n",
        "- `Dense` digunakan untuk menghubungkan layer ke layer selanjutnya, ini berguna untuk output layer klasifikasi akhir\n",
        "- `GlobalAveragePooling2D` kegunaannya mengubah output 3D dari layer convutional menjadi vektor 1D (ini menggantikan fungsi `Flatten` yang mengurangi dimensi tapi kalo gunain `Flatten` akan menambah parameter, kita tidak menginginkan itu)\n",
        "\n",
        "`from tensorflow.keras.models import Model` kegunaannya membangun model menggunakan **API fungsional** yang memungkinkan menghubungkan layer dari model pra-latih ke layer baru yang kita tambahkan\n",
        "\n",
        "`from tensorflow.keras.applications import MobileNetV2` ini mengimpor arsitektur model `MobileNetV2` yang sudah dilatih sebelumnya(*pre-trained*) menggunakan dataset `imageNet`\n",
        "\n",
        "`from tensorflow.keras.datasets import cifar10` untuk mengambil dataset `cifar10` dari server\n",
        "\n",
        "`from tensorflow.keras.utils import to_categorical` berguna untuk melakukan teknik *one-hot encoding*\n",
        "\n",
        "---\n",
        "\n",
        "library `numpy` digunakan untuk komputasi numerik, karena library ini lebih stabil untuk aritmatika pada pengembangan model dibandingan aritmatika python biasa\n",
        "\n",
        "---\n",
        "\n",
        "library `matplotlib` berguna untuk visualisasi grafik data"
      ],
      "metadata": {
        "id": "LUhJ_NwhY4rM"
      }
    },
    {
      "cell_type": "markdown",
      "source": [
        "###MENGAMBIL DAN PREPROCESS DATA"
      ],
      "metadata": {
        "id": "EEi_xjf27Gub"
      }
    },
    {
      "cell_type": "code",
      "source": [
        "(x_train, y_train), (x_test, y_test) = cifar10.load_data()\n",
        "\n",
        "x_train = tf.image.resize(x_train, (255, 255))\n",
        "x_test = tf.image.resize(x_test, (255, 255))\n",
        "\n",
        "x_train = x_train / 127.5 - 1.0\n",
        "x_test = x_test / 127.5 - 1.0\n",
        "\n",
        "y_train = to_categorical(y_train, 10)\n",
        "y_test = to_categorical(y_test, 10)"
      ],
      "metadata": {
        "id": "7hKOGohD7RzF",
        "colab": {
          "base_uri": "https://localhost:8080/"
        },
        "outputId": "31885265-58e7-46c3-bb07-350d568db72a"
      },
      "execution_count": null,
      "outputs": [
        {
          "output_type": "stream",
          "name": "stdout",
          "text": [
            "Downloading data from https://www.cs.toronto.edu/~kriz/cifar-10-python.tar.gz\n",
            "\u001b[1m170498071/170498071\u001b[0m \u001b[32m━━━━━━━━━━━━━━━━━━━━\u001b[0m\u001b[37m\u001b[0m \u001b[1m141s\u001b[0m 1us/step\n"
          ]
        }
      ]
    },
    {
      "cell_type": "markdown",
      "source": [
        "pertama-tama data dipecah dulu sebagai data training yakni variabel `x_train` untuk fitur/input dan `y_train` untuk label/output, terus dibagi lagi untuk data test yakni variabel `x_test` untuk fitur/input dan `y_test` untuk label/output. ini bisa dibagi karena kita membagi nilai menggunakan fungsi `cifar10.load_data()`\n",
        "\n",
        "---\n",
        "\n",
        "`tf.image.resize()` resize gambar dari ukuran 32x32 menjadi ukuran 224x224 karena model `MobileNetV2` mengharapkan input ukuran 224x224w\n",
        "\n",
        "---\n",
        "\n",
        "`x_train / 127.5 - 1.0` menormalisasi nilai pix rentang dari 0-255 menjadi -1 sampai 1 pada data training\n",
        "\n",
        "---\n",
        "\n",
        "`to_categorical(y_train, 10)` melakukan one-hot encoding pada menjadi 10 kelas untuk output/label pada data test"
      ],
      "metadata": {
        "id": "59zQdzl0L4Jj"
      }
    },
    {
      "cell_type": "markdown",
      "source": [
        "###MENGUNAKAN MODEL PRA-LATIH"
      ],
      "metadata": {
        "id": "MuZYsCeZ7RAj"
      }
    },
    {
      "cell_type": "code",
      "source": [
        "\n",
        "base_model = MobileNetV2(\n",
        " weights='imagenet',\n",
        " input_shape=(224, 224, 3),\n",
        " include_top=False\n",
        ")\n",
        "\n",
        "base_model.training = False\n",
        "\n",
        "x = GlobalAveragePooling2D()(base_model.output)\n",
        "x = Dense(256, activation='rule')(x)\n",
        "prediction = Dense(10, activation=\"softmax\")(x)\n",
        "\n",
        "model = Model(inputs=base_model.input, outputs=prediction)"
      ],
      "metadata": {
        "id": "yWqh3NQO7iq-"
      },
      "execution_count": null,
      "outputs": []
    },
    {
      "cell_type": "markdown",
      "source": [
        "kita menggunakan model `MobileNetV2` karena model ini sudah dilatih sebelumnya untuk mengenali ribuan objek gambar(seperti kucing, mobil, dll) dari dataset **ImageNet**\n",
        "\n",
        "kita pakai *otaknya* `MobileNetV2`, tapi **buang layer terakhirnya** (karena tugas kita beda: klasifikasi 10 kelas CIFAR-10, bukan 1000 kelas ImageNet)\n",
        "\n",
        "---\n",
        "\n",
        "variabel `base_model` digunakan untuk menyimpan model yang sudah dibuat. model `MobileNetV2` menyimpan parameter berupa:\n",
        "- `weights='imagenet'` menggunakan bobot dari ImageNet\n",
        "- `input_shape=(224, 224, 3)` model ini menerima gambar ukuran 224x224 piksel dengan 3 channel (RGB)\n",
        "- `include_top=False` menghapus layer klasifikasi asli `MobileNetV2` dan kita ganti dengan layer kita\n",
        "\n",
        "---\n",
        "\n",
        "`base_model.training = False` Membekukan semua layer di MobileNetV2(kita ingin mempertahankan \"pengetahuan\" yang sudah dipelajari model ini) agar tidak diubah selama pelatihan\n",
        "\n",
        "---\n",
        "\n",
        "`GlobalAveragePooling2D()(base_model.output)` mengubah output dari model `MobileNetV2` menjadi output vektor yang sederhana\n",
        "\n",
        "---\n",
        "\n",
        "`Dense(256, activation='rule')(x)` fungsi *Dense* dalam variabel `x` berguna untuk model mempelajari 256 neuron untuk mempelajari pola baru dari data CIFAR-10(karena parameter 256), selanjutnya parameter ke 2, `activation='rule'` untuk aktivasi non-linearitas\n",
        "\n",
        "---\n",
        "\n",
        "sedangkan `Dense(10, activation=\"softmax\")(x)` berguna untuk layer klasifikasi akhir dengan 10 neuoran(sesuai 10 kelas pada dataset **CIFAR-10**), untuk parameter yang ke-2 `activation=\"softmax\"` berguna untuk menghasilkan probabilitas untuk setiap kelas\n",
        "\n",
        "---\n",
        "\n",
        "kenapa dalam fungsi `Dense()` diakhirnya ada variabel `x` seperti ini `Dense()(x)`? itu karena kita menggunakan sintaksis **keras** untuk menghubungkan ke layer-layer tersebut kedalam input\n",
        "- `Dense()`: mendefinisikan layer\n",
        "- `(x)`: menghubungkan layer tersebut ke input(output dari layer sebelumnya (x) dimasukkan ke layer Dense ini, lalu hasilnya disimpan kembali ke variabel `x` untuk layer berikutnya)\n",
        "\n",
        "---\n",
        "\n",
        "`Model(inputs=base_model.input, outputs=predictions)` digunakan untuk menghubungkan input `MobileNetV2` dengan layer yang baru ditambahkan, sehingga menjadi model yang kita inginkan"
      ],
      "metadata": {
        "id": "K4sxX3ul8lAA"
      }
    },
    {
      "cell_type": "markdown",
      "source": [
        "###MELATIH & MENGOMPILASI MODEL"
      ],
      "metadata": {
        "id": "4Un--g5q7hwd"
      }
    },
    {
      "cell_type": "code",
      "source": [
        "\n",
        "model.compile(\n",
        " optimizer='adam',\n",
        " loss='categorical_crossentropy',\n",
        " metrics=['accuracy']\n",
        ")\n",
        "\n",
        "history = model.fit(\n",
        " x_train, y_train,\n",
        " epochs=10,\n",
        " batch_size=32,\n",
        " validation_split=0.2\n",
        ")"
      ],
      "metadata": {
        "id": "tpUrDCjM7ppt"
      },
      "execution_count": null,
      "outputs": []
    },
    {
      "cell_type": "markdown",
      "source": [
        "####**Mengompilasi Model**\n",
        "\n",
        "- **optimizer**: algoritma untuk memperbarui bobot model\n",
        "- **loss function**: fungsi untuk mengukur kesalahan prediksi model\n",
        "- **metrics**: metrik untuk mengevaluasi performa model\n",
        "\n",
        "**parameter compile**:\n",
        "1. `optimizer='adam'` digunakan untuk menyesuaikan bobot model untuk meminimalkan kesalahan. `adam` adalah optimizer yang populer karena cepat dan efisien.\n",
        "2. `loss='categorical_crossentropy'` digunakan untuk mengukur kesalahan prediksi untuk masalah klasifikasi multi-kelas\n",
        "3. `metrics=['accuracy']` digunakan untuk mengukur akurasi\n",
        "---\n",
        "\n",
        "####**Melatih Model**\n",
        "\n",
        "variabel `history` untuk menyimpan riwayat pelatihan model, parameternya:\n",
        "\n",
        "- `x_train` fitur yang digunakan untuk dilatih model\n",
        "-`y_train` label yang digunakan untuk dilatih model\n",
        "- `epochs` digunakan untuk mengulang model selama berlatih, karena epochsnya 5 kali maka, model berlatih dengan data training secara 5 kali berulang\n",
        "- `batch_size=32` artinya model akan **memproses 32 gambar sekaligus** sebelum memperbarui bobotnya(bayangkan belajar 32 soal dulu → cek jawaban → perbaiki kesalahan → ulangi. lebih efisien daripada belajar 50.000 soal sekaligus)\n",
        "-`validation_split=0.2` digunakan untuk validasi model selama latihan, ini seperti \"ujian kecil\" selama latihan model berjalan, karena nilainya `0.2` maka model akan melakukan ujian kecil menggunakan 20% data training"
      ],
      "metadata": {
        "id": "9Xvsk0m_Sk_V"
      }
    },
    {
      "cell_type": "markdown",
      "source": [
        "###EVALUASI MODEL"
      ],
      "metadata": {
        "id": "6EKvewEc7qNn"
      }
    },
    {
      "cell_type": "code",
      "source": [
        "test_loss, test_acc = model.evaluate(x_test, y_test)\n",
        "print(f\"Akurasi Test: {test_acc:.4f}\")\n",
        "\n",
        "plt.plot(history.history['accuracy'], label='Training Accuracy')\n",
        "plt.plot(history.history['val_accuracy'], label='Validation Accuracy')\n",
        "plt.xlabel('Epoch')\n",
        "plt.ylabel('Accuracy')\n",
        "plt.legend()\n",
        "plt.show()"
      ],
      "metadata": {
        "id": "iZC7HlzX7t9w",
        "colab": {
          "base_uri": "https://localhost:8080/",
          "height": 421
        },
        "outputId": "ab7cfd4e-ae63-4f79-d2dc-10b1d845890a"
      },
      "execution_count": null,
      "outputs": [
        {
          "output_type": "error",
          "ename": "NameError",
          "evalue": "name 'model' is not defined",
          "traceback": [
            "\u001b[0;31m---------------------------------------------------------------------------\u001b[0m",
            "\u001b[0;31mNameError\u001b[0m                                 Traceback (most recent call last)",
            "\u001b[0;32m<ipython-input-1-812722603fd2>\u001b[0m in \u001b[0;36m<cell line: 0>\u001b[0;34m()\u001b[0m\n\u001b[0;32m----> 1\u001b[0;31m \u001b[0mtest_loss\u001b[0m\u001b[0;34m,\u001b[0m \u001b[0mtest_acc\u001b[0m \u001b[0;34m=\u001b[0m \u001b[0mmodel\u001b[0m\u001b[0;34m.\u001b[0m\u001b[0mevaluate\u001b[0m\u001b[0;34m(\u001b[0m\u001b[0mx_test\u001b[0m\u001b[0;34m,\u001b[0m \u001b[0my_test\u001b[0m\u001b[0;34m)\u001b[0m\u001b[0;34m\u001b[0m\u001b[0;34m\u001b[0m\u001b[0m\n\u001b[0m\u001b[1;32m      2\u001b[0m \u001b[0mprint\u001b[0m\u001b[0;34m(\u001b[0m\u001b[0;34mf\"Akurasi Test: {test_acc:.4f}\"\u001b[0m\u001b[0;34m)\u001b[0m\u001b[0;34m\u001b[0m\u001b[0;34m\u001b[0m\u001b[0m\n\u001b[1;32m      3\u001b[0m \u001b[0;34m\u001b[0m\u001b[0m\n\u001b[1;32m      4\u001b[0m \u001b[0mplt\u001b[0m\u001b[0;34m.\u001b[0m\u001b[0mplot\u001b[0m\u001b[0;34m(\u001b[0m\u001b[0mhistory\u001b[0m\u001b[0;34m.\u001b[0m\u001b[0mhistory\u001b[0m\u001b[0;34m[\u001b[0m\u001b[0;34m'accuracy'\u001b[0m\u001b[0;34m]\u001b[0m\u001b[0;34m,\u001b[0m \u001b[0mlabel\u001b[0m\u001b[0;34m=\u001b[0m\u001b[0;34m'Training Accuracy'\u001b[0m\u001b[0;34m)\u001b[0m\u001b[0;34m\u001b[0m\u001b[0;34m\u001b[0m\u001b[0m\n\u001b[1;32m      5\u001b[0m \u001b[0mplt\u001b[0m\u001b[0;34m.\u001b[0m\u001b[0mplot\u001b[0m\u001b[0;34m(\u001b[0m\u001b[0mhistory\u001b[0m\u001b[0;34m.\u001b[0m\u001b[0mhistory\u001b[0m\u001b[0;34m[\u001b[0m\u001b[0;34m'val_accuracy'\u001b[0m\u001b[0;34m]\u001b[0m\u001b[0;34m,\u001b[0m \u001b[0mlabel\u001b[0m\u001b[0;34m=\u001b[0m\u001b[0;34m'Validation Accuracy'\u001b[0m\u001b[0;34m)\u001b[0m\u001b[0;34m\u001b[0m\u001b[0;34m\u001b[0m\u001b[0m\n",
            "\u001b[0;31mNameError\u001b[0m: name 'model' is not defined"
          ]
        }
      ]
    },
    {
      "cell_type": "markdown",
      "source": [
        "`model.evaluate()` digunakan untuk mengevaluasi model, ini seperti *tes ujian akhir* bagi model untuk melihat seberapa baik model bekerja, karena *method* ini mengembalikan berupa 2 nilai yaitu **nilai akurasi** yang disimpan kedalam variabel `test_acc` dan **nilai kesalahan selama tes** yang disimpan kedalam variabel `test_loss`, jadi tahap ini merupakan tahap model memakai data test, karena parameter permata menggunakan **fitur data test** yakni `x_test` dan parameter kedua **label data test** yakni `y_test`"
      ],
      "metadata": {
        "id": "uLzLHLlwY6T9"
      }
    },
    {
      "cell_type": "markdown",
      "source": [
        "###TES PREDIKSI"
      ],
      "metadata": {
        "id": "6ISBdsg_8erM"
      }
    },
    {
      "cell_type": "code",
      "source": [
        "\n",
        "indices = np.random.choice(len(X_test), 5)\n",
        "\n",
        "for i in indices:\n",
        "    img = X_test[i]\n",
        "    true_label = np.argmax(y_test[i])\n",
        "\n",
        "    pred = model.predict(img[np.newaxis, ...])\n",
        "    pred_label = np.argmax(pred)\n",
        "\n",
        "    plt.imshow((img + 1) / 2)\n",
        "    plt.title(f\"True: {true_label}, Pred: {pred_label}\")\n",
        "    plt.show()"
      ],
      "metadata": {
        "id": "rXfmmR578ggG"
      },
      "execution_count": null,
      "outputs": []
    },
    {
      "cell_type": "markdown",
      "source": [
        "variabel `indices` dugunakan untuk memilih 5 angka random, yang akan digunakan untuk memilih data secara acak sesuai nilai maksimum dataset, karena menggunakan fungsi `np.random.choice()`\n",
        "\n",
        "---\n",
        "\n",
        "perulangan `for i in indices:` digunakan untuk menampilkan gambar tulis tangan dan hasil prediksi model *satu persatu*"
      ],
      "metadata": {
        "id": "wM5UshXMZGGD"
      }
    }
  ]
}